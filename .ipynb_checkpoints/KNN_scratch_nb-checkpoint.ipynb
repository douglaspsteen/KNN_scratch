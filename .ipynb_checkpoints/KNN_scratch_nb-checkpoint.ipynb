{
 "cells": [
  {
   "cell_type": "code",
   "execution_count": 368,
   "metadata": {},
   "outputs": [],
   "source": [
    "# To access iris dataset\n",
    "from sklearn import datasets\n",
    "from sklearn.model_selection import train_test_split\n",
    "from sklearn.preprocessing import StandardScaler\n",
    "\n",
    "# Pandas, numpy, matplotlib\n",
    "import pandas as pd\n",
    "import numpy as np\n",
    "import matplotlib.pyplot as plt\n",
    "\n",
    "# Counter to help with mode calculations\n",
    "from collections import Counter"
   ]
  },
  {
   "cell_type": "markdown",
   "metadata": {},
   "source": [
    "# Load Data"
   ]
  },
  {
   "cell_type": "code",
   "execution_count": 339,
   "metadata": {},
   "outputs": [],
   "source": [
    "# Load iris data and store in dataframe\n",
    "\n",
    "iris = datasets.load_iris()\n",
    "df = pd.DataFrame(data=iris.data, columns=iris.feature_names)\n",
    "df['target'] = iris.target"
   ]
  },
  {
   "cell_type": "code",
   "execution_count": 340,
   "metadata": {
    "scrolled": false
   },
   "outputs": [
    {
     "data": {
      "text/html": [
       "<div>\n",
       "<style scoped>\n",
       "    .dataframe tbody tr th:only-of-type {\n",
       "        vertical-align: middle;\n",
       "    }\n",
       "\n",
       "    .dataframe tbody tr th {\n",
       "        vertical-align: top;\n",
       "    }\n",
       "\n",
       "    .dataframe thead th {\n",
       "        text-align: right;\n",
       "    }\n",
       "</style>\n",
       "<table border=\"1\" class=\"dataframe\">\n",
       "  <thead>\n",
       "    <tr style=\"text-align: right;\">\n",
       "      <th></th>\n",
       "      <th>sepal length (cm)</th>\n",
       "      <th>sepal width (cm)</th>\n",
       "      <th>petal length (cm)</th>\n",
       "      <th>petal width (cm)</th>\n",
       "      <th>target</th>\n",
       "    </tr>\n",
       "  </thead>\n",
       "  <tbody>\n",
       "    <tr>\n",
       "      <td>0</td>\n",
       "      <td>5.1</td>\n",
       "      <td>3.5</td>\n",
       "      <td>1.4</td>\n",
       "      <td>0.2</td>\n",
       "      <td>0</td>\n",
       "    </tr>\n",
       "    <tr>\n",
       "      <td>1</td>\n",
       "      <td>4.9</td>\n",
       "      <td>3.0</td>\n",
       "      <td>1.4</td>\n",
       "      <td>0.2</td>\n",
       "      <td>0</td>\n",
       "    </tr>\n",
       "    <tr>\n",
       "      <td>2</td>\n",
       "      <td>4.7</td>\n",
       "      <td>3.2</td>\n",
       "      <td>1.3</td>\n",
       "      <td>0.2</td>\n",
       "      <td>0</td>\n",
       "    </tr>\n",
       "    <tr>\n",
       "      <td>3</td>\n",
       "      <td>4.6</td>\n",
       "      <td>3.1</td>\n",
       "      <td>1.5</td>\n",
       "      <td>0.2</td>\n",
       "      <td>0</td>\n",
       "    </tr>\n",
       "    <tr>\n",
       "      <td>4</td>\n",
       "      <td>5.0</td>\n",
       "      <td>3.6</td>\n",
       "      <td>1.4</td>\n",
       "      <td>0.2</td>\n",
       "      <td>0</td>\n",
       "    </tr>\n",
       "  </tbody>\n",
       "</table>\n",
       "</div>"
      ],
      "text/plain": [
       "   sepal length (cm)  sepal width (cm)  petal length (cm)  petal width (cm)  \\\n",
       "0                5.1               3.5                1.4               0.2   \n",
       "1                4.9               3.0                1.4               0.2   \n",
       "2                4.7               3.2                1.3               0.2   \n",
       "3                4.6               3.1                1.5               0.2   \n",
       "4                5.0               3.6                1.4               0.2   \n",
       "\n",
       "   target  \n",
       "0       0  \n",
       "1       0  \n",
       "2       0  \n",
       "3       0  \n",
       "4       0  "
      ]
     },
     "execution_count": 340,
     "metadata": {},
     "output_type": "execute_result"
    }
   ],
   "source": [
    "df.head()"
   ]
  },
  {
   "cell_type": "code",
   "execution_count": 341,
   "metadata": {},
   "outputs": [],
   "source": [
    "# Separate X and y data\n",
    "\n",
    "X = df.drop('target', axis=1)\n",
    "y = df.target"
   ]
  },
  {
   "cell_type": "markdown",
   "metadata": {},
   "source": [
    "# Functions / Code Outline\n",
    "\n",
    "Things that need to happen:\n",
    "\n",
    "1) Function to calculate distance between points\n",
    "\n",
    "2) Calculate distance between a test point and all known data points\n",
    "\n",
    "3) Sort distance measurements to see closest points (nearest neighbors)\n",
    "\n",
    "4) Use labels of those closest points to predict label of test point\n",
    "\n",
    "5) Perform steps 1 - 4 for all test data points"
   ]
  },
  {
   "cell_type": "markdown",
   "metadata": {},
   "source": [
    "## 1) Calculate distance between two points (Minkowski distance)"
   ]
  },
  {
   "cell_type": "code",
   "execution_count": 350,
   "metadata": {},
   "outputs": [
    {
     "data": {
      "text/plain": [
       "0.6999999999999993"
      ]
     },
     "execution_count": 350,
     "metadata": {},
     "output_type": "execute_result"
    }
   ],
   "source": [
    "# Calculate distance between two points\n",
    "\n",
    "def minkowski_distance(a, b, p=1):\n",
    "    \n",
    "    # Store the number of dimensions\n",
    "    dim = len(a)\n",
    "    \n",
    "    # Set initial distance to 0\n",
    "    distance = 0\n",
    "    \n",
    "    # Calculate minkowski distance using parameter p\n",
    "    for d in range(dim):\n",
    "        distance += abs(a[d] - b[d])**p\n",
    "        \n",
    "    distance = distance**(1/p)\n",
    "    \n",
    "    return distance\n",
    "\n",
    "# Test the function\n",
    "\n",
    "minkowski_distance(a=X.iloc[0], b=X.iloc[1], p=1)"
   ]
  },
  {
   "cell_type": "markdown",
   "metadata": {},
   "source": [
    "## 2) Calculate distance between a test point and all known data points"
   ]
  },
  {
   "cell_type": "code",
   "execution_count": 343,
   "metadata": {},
   "outputs": [],
   "source": [
    "# Define an arbitrary test point\n",
    "\n",
    "test_pt = [4.8, 2.7, 2.5, 0.7]"
   ]
  },
  {
   "cell_type": "code",
   "execution_count": 351,
   "metadata": {
    "scrolled": true
   },
   "outputs": [
    {
     "data": {
      "text/html": [
       "<div>\n",
       "<style scoped>\n",
       "    .dataframe tbody tr th:only-of-type {\n",
       "        vertical-align: middle;\n",
       "    }\n",
       "\n",
       "    .dataframe tbody tr th {\n",
       "        vertical-align: top;\n",
       "    }\n",
       "\n",
       "    .dataframe thead th {\n",
       "        text-align: right;\n",
       "    }\n",
       "</style>\n",
       "<table border=\"1\" class=\"dataframe\">\n",
       "  <thead>\n",
       "    <tr style=\"text-align: right;\">\n",
       "      <th></th>\n",
       "      <th>dist</th>\n",
       "    </tr>\n",
       "  </thead>\n",
       "  <tbody>\n",
       "    <tr>\n",
       "      <td>0</td>\n",
       "      <td>2.7</td>\n",
       "    </tr>\n",
       "    <tr>\n",
       "      <td>1</td>\n",
       "      <td>2.0</td>\n",
       "    </tr>\n",
       "    <tr>\n",
       "      <td>2</td>\n",
       "      <td>2.3</td>\n",
       "    </tr>\n",
       "    <tr>\n",
       "      <td>3</td>\n",
       "      <td>2.1</td>\n",
       "    </tr>\n",
       "    <tr>\n",
       "      <td>4</td>\n",
       "      <td>2.7</td>\n",
       "    </tr>\n",
       "  </tbody>\n",
       "</table>\n",
       "</div>"
      ],
      "text/plain": [
       "   dist\n",
       "0   2.7\n",
       "1   2.0\n",
       "2   2.3\n",
       "3   2.1\n",
       "4   2.7"
      ]
     },
     "execution_count": 351,
     "metadata": {},
     "output_type": "execute_result"
    }
   ],
   "source": [
    "# Calculate distance between test_pt and all points in X\n",
    "\n",
    "distances = []\n",
    "\n",
    "for i in X.index:\n",
    "    \n",
    "    distances.append(minkowski_distance(test_pt, X.iloc[i]))\n",
    "    \n",
    "df_dists = pd.DataFrame(data=distances, index=X.index, columns=['dist'])\n",
    "df_dists.head()"
   ]
  },
  {
   "cell_type": "markdown",
   "metadata": {},
   "source": [
    "## 3) Sort distance measurements to see the closest points (nearest neighbors)"
   ]
  },
  {
   "cell_type": "code",
   "execution_count": 354,
   "metadata": {},
   "outputs": [
    {
     "data": {
      "text/html": [
       "<div>\n",
       "<style scoped>\n",
       "    .dataframe tbody tr th:only-of-type {\n",
       "        vertical-align: middle;\n",
       "    }\n",
       "\n",
       "    .dataframe tbody tr th {\n",
       "        vertical-align: top;\n",
       "    }\n",
       "\n",
       "    .dataframe thead th {\n",
       "        text-align: right;\n",
       "    }\n",
       "</style>\n",
       "<table border=\"1\" class=\"dataframe\">\n",
       "  <thead>\n",
       "    <tr style=\"text-align: right;\">\n",
       "      <th></th>\n",
       "      <th>dist</th>\n",
       "    </tr>\n",
       "  </thead>\n",
       "  <tbody>\n",
       "    <tr>\n",
       "      <td>98</td>\n",
       "      <td>1.4</td>\n",
       "    </tr>\n",
       "    <tr>\n",
       "      <td>57</td>\n",
       "      <td>1.5</td>\n",
       "    </tr>\n",
       "    <tr>\n",
       "      <td>93</td>\n",
       "      <td>1.7</td>\n",
       "    </tr>\n",
       "    <tr>\n",
       "      <td>24</td>\n",
       "      <td>1.8</td>\n",
       "    </tr>\n",
       "    <tr>\n",
       "      <td>30</td>\n",
       "      <td>1.8</td>\n",
       "    </tr>\n",
       "  </tbody>\n",
       "</table>\n",
       "</div>"
      ],
      "text/plain": [
       "    dist\n",
       "98   1.4\n",
       "57   1.5\n",
       "93   1.7\n",
       "24   1.8\n",
       "30   1.8"
      ]
     },
     "execution_count": 354,
     "metadata": {},
     "output_type": "execute_result"
    }
   ],
   "source": [
    "# Limit to 5 nearest points for now\n",
    "\n",
    "df_nn = df_dists.sort_values(by=['dist'], axis=0)[:5]\n",
    "df_nn"
   ]
  },
  {
   "cell_type": "markdown",
   "metadata": {},
   "source": [
    "## 4) Use labels of those closest points to predict label of test point"
   ]
  },
  {
   "cell_type": "code",
   "execution_count": 355,
   "metadata": {},
   "outputs": [
    {
     "data": {
      "text/plain": [
       "98    1\n",
       "57    1\n",
       "93    1\n",
       "24    0\n",
       "30    0\n",
       "Name: target, dtype: int32"
      ]
     },
     "execution_count": 355,
     "metadata": {},
     "output_type": "execute_result"
    }
   ],
   "source": [
    "# Use df_nn.index to get labels for nearest neighbors\n",
    "\n",
    "y[df_nn.index]"
   ]
  },
  {
   "cell_type": "code",
   "execution_count": 356,
   "metadata": {},
   "outputs": [
    {
     "data": {
      "text/plain": [
       "1"
      ]
     },
     "execution_count": 356,
     "metadata": {},
     "output_type": "execute_result"
    }
   ],
   "source": [
    "# Create counter object to track the labels\n",
    "\n",
    "counter = Counter(y[nn.index])\n",
    "\n",
    "# Get most common label of all the nearest neighbors\n",
    "\n",
    "counter.most_common()[0][0]"
   ]
  },
  {
   "cell_type": "markdown",
   "metadata": {},
   "source": [
    "## 5) Perform steps 1 - 4 for all test data points"
   ]
  },
  {
   "cell_type": "code",
   "execution_count": 366,
   "metadata": {},
   "outputs": [],
   "source": [
    "# Split the data - 75% train, 25% test\n",
    "\n",
    "X_train, X_test, y_train, y_test = train_test_split(X, y, test_size=0.25,\n",
    "                                                   random_state=42)"
   ]
  },
  {
   "cell_type": "code",
   "execution_count": 367,
   "metadata": {},
   "outputs": [
    {
     "data": {
      "text/plain": [
       "((112, 4), (38, 4), (112,), (38,))"
      ]
     },
     "execution_count": 367,
     "metadata": {},
     "output_type": "execute_result"
    }
   ],
   "source": [
    "# Check shape of data after split\n",
    "\n",
    "X_train.shape, X_test.shape, y_train.shape, y_test.shape"
   ]
  },
  {
   "cell_type": "code",
   "execution_count": 371,
   "metadata": {},
   "outputs": [],
   "source": [
    "# Scale the X data\n",
    "\n",
    "scaler = StandardScaler()\n",
    "X_train = scaler.fit_transform(X_train)\n",
    "X_test = scaler.transform(X_test)"
   ]
  },
  {
   "cell_type": "code",
   "execution_count": 375,
   "metadata": {},
   "outputs": [
    {
     "name": "stdout",
     "output_type": "stream",
     "text": [
      "[-1.01827123  1.2864604  -1.39338902 -1.3621769 ]\n",
      "[-0.7730102   2.43545215 -1.33550342 -1.49647603]\n",
      "[-0.03722712 -0.78172474  0.74837808  0.92090833]\n",
      "[0.20803391 0.8268637  0.4010645  0.51801093]\n",
      "[1.06644751 0.13746866 0.51683569 0.3837118 ]\n",
      "[-0.52774918  1.97585545 -1.45127462 -1.09357864]\n",
      "[-0.52774918  1.51625875 -1.33550342 -1.3621769 ]\n",
      "[-0.40511866 -1.47111979 -0.06202028 -0.28778385]\n",
      "[ 0.57592545 -0.55192639  0.74837808  0.3837118 ]\n",
      "[0.69855596 0.13746866 0.97992047 0.7866092 ]\n",
      "[ 0.94381699 -0.09232969  0.3431789   0.24941267]\n",
      "[1.67960008 1.2864604  1.32723405 1.72670311]\n",
      "[-0.15985763 -0.32212804  0.2274077   0.11511354]\n",
      "[ 2.17012213 -0.09232969  1.61666204  1.18950659]\n",
      "[-0.28248815 -0.09232969  0.4010645   0.3837118 ]\n",
      "[-0.89564072  1.05666205 -1.39338902 -1.3621769 ]\n",
      "[ 2.29275265 -0.55192639  1.67454764  1.05520746]\n",
      "[-0.03722712 -0.78172474  0.16952211 -0.28778385]\n",
      "[-0.7730102   0.8268637  -1.39338902 -1.3621769 ]\n",
      "[-1.01827123  1.05666205 -1.45127462 -1.22787777]\n",
      "[-0.89564072  1.7460571  -1.10396103 -1.09357864]\n",
      "[-1.01827123 -2.39031318 -0.17779148 -0.28778385]\n",
      "[ 0.57592545 -0.78172474  0.63260689  0.7866092 ]\n",
      "[-1.26353226  0.8268637  -1.10396103 -1.3621769 ]\n",
      "[-1.01827123 -0.09232969 -1.27761783 -1.3621769 ]\n",
      "[-0.89564072  0.59706535 -1.21973223 -0.95927951]\n",
      "[-0.28248815 -0.78172474  0.2274077   0.11511354]\n",
      "[-0.89564072  0.8268637  -1.33550342 -1.3621769 ]\n",
      "[-0.15985763 -0.09232969  0.2274077  -0.01918559]\n",
      "[2.29275265 1.7460571  1.67454764 1.32380572]\n",
      "[-1.50879329  0.367267   -1.39338902 -1.3621769 ]\n",
      "[ 0.45329494 -0.32212804  0.2852933   0.11511354]\n",
      "[-0.15985763 -1.24132144  0.69049248  1.05520746]\n",
      "[-0.40511866  2.66525049 -1.39338902 -1.3621769 ]\n",
      "[ 0.20803391 -0.09232969  0.57472129  0.7866092 ]\n",
      "[-0.03722712 -0.78172474  0.74837808  0.92090833]\n",
      "[ 0.20803391 -1.93071649  0.11163651 -0.28778385]\n",
      "[-0.52774918 -0.09232969  0.4010645   0.3837118 ]\n",
      "[0.45329494 0.8268637  0.92203487 1.45810485]\n",
      "[-0.40511866 -1.70091814  0.11163651  0.11511354]\n",
      "[-0.52774918  1.97585545 -1.21973223 -1.09357864]\n",
      "[-1.01827123 -1.70091814 -0.29356267 -0.28778385]\n",
      "[ 0.69855596 -0.78172474  0.86414927  0.92090833]\n",
      "[-1.01827123  0.59706535 -1.39338902 -1.3621769 ]\n",
      "[-1.01827123  0.367267   -1.50916022 -1.3621769 ]\n",
      "[-0.40511866 -1.47111979 -0.00413469 -0.15348472]\n",
      "[ 1.06644751 -0.09232969  0.69049248  0.65231006]\n",
      "[-1.14090175  0.13746866 -1.33550342 -1.3621769 ]\n",
      "[-0.03722712 -0.55192639  0.74837808  1.59240398]\n",
      "[-1.01827123  0.8268637  -1.33550342 -1.3621769 ]\n",
      "[-1.01827123  1.05666205 -1.27761783 -0.82498038]\n",
      "[0.08540339 0.367267   0.57472129 0.7866092 ]\n",
      "[-0.89564072 -1.24132144 -0.46721946 -0.15348472]\n",
      "[1.31170853 0.367267   1.09569166 1.45810485]\n",
      "[ 0.20803391 -0.78172474  0.74837808  0.51801093]\n",
      "[ 0.33066442 -1.01152309  1.03780607  0.24941267]\n",
      "[ 2.29275265 -0.09232969  1.32723405  1.45810485]\n",
      "[-0.40511866 -1.24132144  0.11163651  0.11511354]\n",
      "[-1.75405432 -0.32212804 -1.39338902 -1.3621769 ]\n",
      "[-1.87668483 -0.09232969 -1.56704581 -1.49647603]\n",
      "[ 0.20803391 -1.93071649  0.69049248  0.3837118 ]\n",
      "[1.67960008 0.367267   1.26934846 0.7866092 ]\n",
      "[-1.50879329  0.13746866 -1.33550342 -1.3621769 ]\n",
      "[-0.89564072  1.05666205 -1.39338902 -1.22787777]\n",
      "[-1.75405432 -0.09232969 -1.45127462 -1.3621769 ]\n",
      "[ 0.57592545 -1.24132144  0.63260689  0.3837118 ]\n",
      "[0.57592545 0.8268637  1.03780607 1.59240398]\n",
      "[-1.50879329  0.8268637  -1.39338902 -1.22787777]\n",
      "[ 1.18907802 -0.09232969  0.97992047  1.18950659]\n",
      "[0.57592545 0.59706535 1.26934846 1.72670311]\n",
      "[-1.38616278  0.367267   -1.45127462 -1.3621769 ]\n",
      "[ 0.33066442 -0.32212804  0.51683569  0.24941267]\n",
      "[ 0.82118648 -0.55192639  0.45895009  0.3837118 ]\n",
      "[ 0.45329494 -0.55192639  0.57472129  0.7866092 ]\n",
      "[1.43433905 0.367267   0.51683569 0.24941267]\n",
      "[0.69855596 0.367267   0.86414927 1.45810485]\n",
      "[-0.89564072  1.7460571  -1.27761783 -1.3621769 ]\n",
      "[1.31170853 0.13746866 0.92203487 1.18950659]\n",
      "[ 0.08540339 -0.09232969  0.2274077   0.3837118 ]\n",
      "[ 0.82118648 -0.09232969  0.80626368  1.05520746]\n",
      "[-0.15985763 -1.01152309 -0.17779148 -0.28778385]\n",
      "[-0.7730102  -0.78172474  0.05375091  0.24941267]\n",
      "[ 0.33066442 -0.09232969  0.45895009  0.24941267]\n",
      "[-1.6314238  -1.70091814 -1.45127462 -1.22787777]\n",
      "[ 0.94381699 -0.32212804  0.45895009  0.11511354]\n",
      "[-0.40511866 -1.01152309  0.3431789  -0.01918559]\n",
      "[-0.65037969  1.51625875 -1.33550342 -1.3621769 ]\n",
      "[-0.28248815 -0.09232969  0.16952211  0.11511354]\n",
      "[ 1.80223059 -0.32212804  1.44300525  0.7866092 ]\n",
      "[1.06644751 0.59706535 1.09569166 1.18950659]\n",
      "[-0.89564072  1.51625875 -1.33550342 -1.09357864]\n",
      "[-1.14090175 -1.47111979 -0.29356267 -0.28778385]\n",
      "[1.06644751 0.59706535 1.09569166 1.72670311]\n",
      "[ 1.67960008 -0.09232969  1.15357726  0.51801093]\n",
      "[-1.14090175  1.2864604  -1.39338902 -1.49647603]\n",
      "[1.06644751 0.13746866 1.03780607 1.59240398]\n",
      "[-1.14090175 -0.09232969 -1.39338902 -1.3621769 ]\n",
      "[1.31170853 0.13746866 0.63260689 0.3837118 ]\n",
      "[ 1.9248611  -0.55192639  1.32723405  0.92090833]\n",
      "[ 0.57592545 -0.32212804  1.03780607  0.7866092 ]\n",
      "[-0.15985763 -0.55192639  0.16952211  0.11511354]\n",
      "[ 0.82118648 -0.09232969  0.97992047  0.7866092 ]\n",
      "[ 0.57592545 -1.70091814  0.3431789   0.11511354]\n",
      "[ 0.69855596 -0.32212804  0.2852933   0.11511354]\n",
      "[-0.28248815 -0.55192639  0.63260689  1.05520746]\n",
      "[ 0.08540339 -0.09232969  0.74837808  0.7866092 ]\n",
      "[-0.52774918  0.8268637  -1.21973223 -1.3621769 ]\n",
      "[ 0.33066442 -0.55192639  0.11163651  0.11511354]\n",
      "[-1.14090175 -1.24132144  0.4010645   0.65231006]\n",
      "[-0.03722712  2.2056538  -1.50916022 -1.3621769 ]\n",
      "[-0.03722712 -1.01152309  0.11163651 -0.01918559]\n",
      "[ 1.55696956 -0.09232969  1.21146286  1.18950659]\n"
     ]
    }
   ],
   "source": [
    "# Make predicts on the test data\n",
    "\n",
    "y_hat_test = []\n",
    "\n",
    "for test_point in X_test:\n",
    "    \n",
    "    for train_point in X_train:\n",
    "        \n",
    "    \n",
    "    "
   ]
  },
  {
   "cell_type": "code",
   "execution_count": null,
   "metadata": {},
   "outputs": [],
   "source": []
  }
 ],
 "metadata": {
  "kernelspec": {
   "display_name": "learn-env",
   "language": "python",
   "name": "learn-env"
  },
  "language_info": {
   "codemirror_mode": {
    "name": "ipython",
    "version": 3
   },
   "file_extension": ".py",
   "mimetype": "text/x-python",
   "name": "python",
   "nbconvert_exporter": "python",
   "pygments_lexer": "ipython3",
   "version": "3.6.9"
  },
  "toc": {
   "base_numbering": 1,
   "nav_menu": {},
   "number_sections": true,
   "sideBar": true,
   "skip_h1_title": false,
   "title_cell": "Table of Contents",
   "title_sidebar": "Contents",
   "toc_cell": false,
   "toc_position": {},
   "toc_section_display": true,
   "toc_window_display": false
  }
 },
 "nbformat": 4,
 "nbformat_minor": 2
}
